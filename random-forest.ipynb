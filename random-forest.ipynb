{
 "cells": [
  {
   "cell_type": "markdown",
   "metadata": {},
   "source": [
    "# Extra Marital Affairs In Kenya\n",
    "## Data Source: [Kenya Open Data Portal](http://www.opendata.go.ke/)\n",
    "### gyleodhis@outlook.com\n",
    "### [@gyleodhis](https://www.twitter.com/gyleodhis)\n",
    "### ![@gyleodhis](./data/kenya.png)\n",
    "#### Licence:\n",
    "You can use this code for anything you may wish only leave this page:\n",
    "#### AS IS; HOW IS, WHERE IS"
   ]
  },
  {
   "cell_type": "markdown",
   "metadata": {},
   "source": [
    "In this project Is seek to model features that contribute to extra marital affairs in Kenya. Specifically I try to answer the following questions:\n",
    "1. What percentage of marraiges suffer from affairs\n",
    "2. At what age do most couples start having affairs.\n",
    "3. Relationship between religion and having an affair\n",
    "4. Relationship between number of children and having an affair.\n",
    "5. How many years into marriage will affairs begin.\n",
    "6. Relationship between happiness and extra marital affairs among others.\n",
    "\n",
    "### ... Of course its a Random Forest Simulation"
   ]
  },
  {
   "cell_type": "code",
   "execution_count": 1,
   "metadata": {},
   "outputs": [],
   "source": [
    "from pyspark.sql import SparkSession\n",
    "spark = SparkSession.builder.appName(\"Marriage Issues\").getOrCreate()"
   ]
  },
  {
   "cell_type": "code",
   "execution_count": 62,
   "metadata": {},
   "outputs": [],
   "source": [
    "from IPython.display import display\n",
    "import matplotlib as mpl\n",
    "import matplotlib.pyplot as plt\n",
    "%matplotlib inline\n",
    "import seaborn as sb\n",
    "import pandas as pd\n",
    "import numpy as np"
   ]
  },
  {
   "cell_type": "code",
   "execution_count": 3,
   "metadata": {},
   "outputs": [
    {
     "name": "stdout",
     "output_type": "stream",
     "text": [
      "(6366, 6)\n"
     ]
    }
   ],
   "source": [
    "df = spark.read.csv(\"./data/affairs.csv\", inferSchema=True, header=True)\n",
    "print((df.count(), len(df.columns)))"
   ]
  },
  {
   "cell_type": "code",
   "execution_count": 4,
   "metadata": {},
   "outputs": [
    {
     "name": "stdout",
     "output_type": "stream",
     "text": [
      "root\n",
      " |-- rate_marriage: integer (nullable = true)\n",
      " |-- age: double (nullable = true)\n",
      " |-- yrs_married: double (nullable = true)\n",
      " |-- children: double (nullable = true)\n",
      " |-- religious: integer (nullable = true)\n",
      " |-- affairs: integer (nullable = true)\n",
      "\n"
     ]
    }
   ],
   "source": [
    "df.printSchema()"
   ]
  },
  {
   "cell_type": "markdown",
   "metadata": {},
   "source": [
    "The schema of our data is great. There are no string columns which need to be converted to numericals."
   ]
  },
  {
   "cell_type": "code",
   "execution_count": 5,
   "metadata": {},
   "outputs": [
    {
     "name": "stdout",
     "output_type": "stream",
     "text": [
      "+-------------+----+-----------+--------+---------+-------+\n",
      "|rate_marriage|age |yrs_married|children|religious|affairs|\n",
      "+-------------+----+-----------+--------+---------+-------+\n",
      "|5            |32.0|6.0        |1.0     |3        |0      |\n",
      "|4            |22.0|2.5        |0.0     |2        |0      |\n",
      "|3            |32.0|9.0        |3.0     |3        |1      |\n",
      "|3            |27.0|13.0       |3.0     |1        |1      |\n",
      "|4            |22.0|2.5        |0.0     |1        |1      |\n",
      "|4            |37.0|16.5       |4.0     |3        |1      |\n",
      "|5            |27.0|9.0        |1.0     |1        |1      |\n",
      "|4            |27.0|9.0        |0.0     |2        |1      |\n",
      "|5            |37.0|23.0       |5.5     |2        |1      |\n",
      "|5            |37.0|23.0       |5.5     |2        |1      |\n",
      "+-------------+----+-----------+--------+---------+-------+\n",
      "only showing top 10 rows\n",
      "\n"
     ]
    }
   ],
   "source": [
    "df.show(10, False)"
   ]
  },
  {
   "cell_type": "code",
   "execution_count": 6,
   "metadata": {},
   "outputs": [
    {
     "name": "stdout",
     "output_type": "stream",
     "text": [
      "+-------+------------------+-----------------+------------------+------------------+\n",
      "|summary|age               |yrs_married      |children          |affairs           |\n",
      "+-------+------------------+-----------------+------------------+------------------+\n",
      "|count  |6366              |6366             |6366              |6366              |\n",
      "|mean   |29.082862079798932|9.00942507068803 |1.3968740182218033|0.3224945020420987|\n",
      "|stddev |6.847881883668817 |7.280119972766412|1.433470828560344 |0.467467779921086 |\n",
      "|min    |17.5              |0.5              |0.0               |0                 |\n",
      "|max    |42.0              |23.0             |5.5               |1                 |\n",
      "+-------+------------------+-----------------+------------------+------------------+\n",
      "\n"
     ]
    }
   ],
   "source": [
    "df.describe().select(\"summary\",\"age\",\"yrs_married\",\"children\",\"affairs\").show(5, False)"
   ]
  },
  {
   "cell_type": "markdown",
   "metadata": {},
   "source": [
    "##### The average age of people getting married is 29 years while most people by this age usually on average have been married for 9 years and  have only one child."
   ]
  },
  {
   "cell_type": "markdown",
   "metadata": {},
   "source": [
    "### How many married people have affairs"
   ]
  },
  {
   "cell_type": "code",
   "execution_count": 255,
   "metadata": {},
   "outputs": [
    {
     "name": "stdout",
     "output_type": "stream",
     "text": [
      "+-------+-----+\n",
      "|affairs|count|\n",
      "+-------+-----+\n",
      "|      1| 2053|\n",
      "|      0| 4313|\n",
      "+-------+-----+\n",
      "\n"
     ]
    },
    {
     "data": {
      "text/plain": [
       "Text(0.5, 1.0, 'Married People with and Without affairs')"
      ]
     },
     "execution_count": 255,
     "metadata": {},
     "output_type": "execute_result"
    },
    {
     "data": {
      "image/png": "[encoded data removed]",
      "text/plain": [
       "<Figure size 432x288 with 1 Axes>"
      ]
     },
     "metadata": {
      "needs_background": "light"
     },
     "output_type": "display_data"
    }
   ],
   "source": [
    "affairs_df =df.groupBy(\"affairs\").count()\n",
    "pandas_df = affairs_df.toPandas()\n",
    "affairs_df.show()\n",
    "labels = \"Marriages Without Affairs\", \"Marriages with Affairs\"\n",
    "plt.plot(pandas_df['affairs'], pandas_df['count'], '-p', color='gray',markersize=15, label=labels,\n",
    "         linewidth=4, markerfacecolor='white', markeredgecolor='red', markeredgewidth=2)\n",
    "plt.xlabel(\"Affairs\")\n",
    "plt.ylabel(\"Number of Marriages\")\n",
    "plt.title(\"Married People with and Without affairs\")"
   ]
  },
  {
   "cell_type": "markdown",
   "metadata": {},
   "source": [
    "#### Roughly one in every three marriages is cought up in extra-marital affair."
   ]
  },
  {
   "cell_type": "code",
   "execution_count": 183,
   "metadata": {},
   "outputs": [
    {
     "name": "stdout",
     "output_type": "stream",
     "text": [
      "+-------------+-----+\n",
      "|rate_marriage|count|\n",
      "+-------------+-----+\n",
      "|            1|   99|\n",
      "|            2|  348|\n",
      "|            3|  993|\n",
      "|            4| 2242|\n",
      "|            5| 2684|\n",
      "+-------------+-----+\n",
      "\n"
     ]
    },
    {
     "data": {
      "image/png": "[encoded data removed]",
      "text/plain": [
       "<Figure size 432x288 with 1 Axes>"
      ]
     },
     "metadata": {},
     "output_type": "display_data"
    }
   ],
   "source": [
    "rates_df = df.groupBy(\"rate_marriage\").count().orderBy(\"count\", ascending=True)\n",
    "rates_df_pandas = rates_df.toPandas()\n",
    "labels = '99 Mariages', '348 Marriages', '993 Marriages', '2242 Marriages', '2689 Marriages'\n",
    "explode = (0, 0, 0, 0, 0.2)\n",
    "plt.pie(rates_df_pandas['count'],labels=labels, explode=explode, shadow=True, radius=2)\n",
    "\n",
    "rates_df.show()"
   ]
  },
  {
   "cell_type": "markdown",
   "metadata": {},
   "source": [
    "#### What do people mean when they rate their marriage as high(5) or low(1). Lets find out"
   ]
  },
  {
   "cell_type": "code",
   "execution_count": 178,
   "metadata": {},
   "outputs": [
    {
     "name": "stdout",
     "output_type": "stream",
     "text": [
      "+-------------+-------+-----+\n",
      "|rate_marriage|affairs|count|\n",
      "+-------------+-------+-----+\n",
      "|            1|      0|   25|\n",
      "|            1|      1|   74|\n",
      "|            2|      0|  127|\n",
      "|            2|      1|  221|\n",
      "|            3|      0|  446|\n",
      "|            3|      1|  547|\n",
      "|            4|      0| 1518|\n",
      "|            4|      1|  724|\n",
      "|            5|      0| 2197|\n",
      "|            5|      1|  487|\n",
      "+-------------+-------+-----+\n",
      "\n"
     ]
    },
    {
     "data": {
      "image/png": "[encoded data removed]",
      "text/plain": [
       "<Figure size 432x288 with 1 Axes>"
      ]
     },
     "metadata": {},
     "output_type": "display_data"
    }
   ],
   "source": [
    "happiness_df = df.groupBy(\"rate_marriage\", \"affairs\").count().orderBy(\"rate_marriage\",\"affairs\",\"count\", ascending=True)\n",
    "happiness_Pandas_df = happiness_df.toPandas()\n",
    "happiness_df.show()\n",
    "fig, ax = plt.subplots()\n",
    "size = 1\n",
    "cmap = plt.get_cmap(\"tab20c\")\n",
    "outer_colors = cmap(np.arange(3)*4)\n",
    "inner_colors = cmap(np.array([1, 2, 5, 6, 9, 10,]))\n",
    "explodeOuter = (0.3, 0.3, 0.3, 0.3, 0, 0, 0, 0, 0, 0)\n",
    "\n",
    "ax.pie(happiness_Pandas_df['count'], radius=2.5, colors=outer_colors, labels=happiness_Pandas_df['count'],\n",
    "       explode=explodeOuter, shadow=True, wedgeprops=dict(width=size, edgecolor='w'))\n",
    "\n",
    "ax.pie(happiness_Pandas_df['affairs'], radius=2.5-size, colors=inner_colors, autopct='%1.1f%%',\n",
    "       wedgeprops=dict(width=size, edgecolor='w'))\n",
    "\n",
    "ax.set(aspect=\"equal\")\n",
    "plt.show()"
   ]
  },
  {
   "cell_type": "markdown",
   "metadata": {},
   "source": [
    "#### Clearly, the figures indicate a high percentage of people having affairs when rating their marriages low. This might prove to be a useful feature for the prediction."
   ]
  },
  {
   "cell_type": "code",
   "execution_count": 215,
   "metadata": {},
   "outputs": [
    {
     "name": "stdout",
     "output_type": "stream",
     "text": [
      "+---------+-------+-----+\n",
      "|religious|affairs|count|\n",
      "+---------+-------+-----+\n",
      "|        1|      0|  613|\n",
      "|        1|      1|  408|\n",
      "|        2|      0| 1448|\n",
      "|        2|      1|  819|\n",
      "|        3|      0| 1715|\n",
      "|        3|      1|  707|\n",
      "|        4|      0|  537|\n",
      "|        4|      1|  119|\n",
      "+---------+-------+-----+\n",
      "\n"
     ]
    }
   ],
   "source": [
    "religion_df = df.groupBy('religious','affairs').count().orderBy('religious','affairs','count',ascending=True)\n",
    "religion_df.show()"
   ]
  },
  {
   "cell_type": "markdown",
   "metadata": {},
   "source": [
    "#### That is very interesting most people who have affairs give very little ratings on religious matter."
   ]
  },
  {
   "cell_type": "code",
   "execution_count": 253,
   "metadata": {},
   "outputs": [
    {
     "data": {
      "image/png": "[encoded data removed]",
      "text/plain": [
       "<Figure size 432x288 with 1 Axes>"
      ]
     },
     "metadata": {
      "needs_background": "light"
     },
     "output_type": "display_data"
    }
   ],
   "source": [
    "religion_df1 = religion_df.toPandas()\n",
    "plt.hist(religion_df1, rwidth=3, cumulative=True)\n",
    "plt.title(\"Religion and Extra Marital Affairs.\")\n",
    "plt.xlabel(\"Number of Marriages\")\n",
    "plt.ylabel(\"Religion Rating\")\n",
    "plt.show()"
   ]
  },
  {
   "cell_type": "code",
   "execution_count": 241,
   "metadata": {},
   "outputs": [
    {
     "name": "stdout",
     "output_type": "stream",
     "text": [
      "+--------+-------+-----+\n",
      "|children|affairs|count|\n",
      "+--------+-------+-----+\n",
      "|     0.0|      0| 1912|\n",
      "|     0.0|      1|  502|\n",
      "|     1.0|      0|  747|\n",
      "|     1.0|      1|  412|\n",
      "|     2.0|      0|  873|\n",
      "|     2.0|      1|  608|\n",
      "|     3.0|      0|  460|\n",
      "|     3.0|      1|  321|\n",
      "|     4.0|      0|  197|\n",
      "|     4.0|      1|  131|\n",
      "|     5.5|      0|  124|\n",
      "|     5.5|      1|   79|\n",
      "+--------+-------+-----+\n",
      "\n"
     ]
    }
   ],
   "source": [
    "df.groupBy('children','affairs').count().orderBy('children','affairs','count',ascending=True).show()"
   ]
  },
  {
   "cell_type": "markdown",
   "metadata": {},
   "source": [
    "#### The above computation gives a rough analogy that people who have affairs have less children than those who do not."
   ]
  },
  {
   "cell_type": "code",
   "execution_count": 12,
   "metadata": {},
   "outputs": [
    {
     "name": "stdout",
     "output_type": "stream",
     "text": [
      "+-------+------------------+------------------+------------------+------------------+\n",
      "|affairs|          avg(age)|  avg(yrs_married)|     avg(children)|    avg(religious)|\n",
      "+-------+------------------+------------------+------------------+------------------+\n",
      "|      1|30.537018996590355|11.152459814905017|1.7289332683877252| 2.261568436434486|\n",
      "|      0| 28.39067934152562| 7.989334569904939|1.2388128912589844|2.5045212149316023|\n",
      "+-------+------------------+------------------+------------------+------------------+\n",
      "\n"
     ]
    }
   ],
   "source": [
    "df.groupBy(\"affairs\").mean().select(\"affairs\",\"avg(age)\",\"avg(yrs_married)\",\"avg(children)\",\"avg(religious)\").show()"
   ]
  },
  {
   "cell_type": "markdown",
   "metadata": {},
   "source": [
    "#### The above table gives a brief comparison between people with affairs and those whithout.\n",
    "People who have been married for longer years tend to have extra-marital affairs.\n",
    "Most people with affairs are way of above 30 years of age."
   ]
  },
  {
   "cell_type": "markdown",
   "metadata": {},
   "source": [
    "## Feature Engineering"
   ]
  },
  {
   "cell_type": "code",
   "execution_count": 13,
   "metadata": {},
   "outputs": [],
   "source": [
    "# We need to assemble all the input columns into a single vector column\n",
    "from pyspark.ml.feature import VectorAssembler"
   ]
  },
  {
   "cell_type": "code",
   "execution_count": 14,
   "metadata": {},
   "outputs": [
    {
     "name": "stdout",
     "output_type": "stream",
     "text": [
      "root\n",
      " |-- rate_marriage: integer (nullable = true)\n",
      " |-- age: double (nullable = true)\n",
      " |-- yrs_married: double (nullable = true)\n",
      " |-- children: double (nullable = true)\n",
      " |-- religious: integer (nullable = true)\n",
      " |-- affairs: integer (nullable = true)\n",
      " |-- features: vector (nullable = true)\n",
      "\n"
     ]
    }
   ],
   "source": [
    "df_assembler = VectorAssembler(inputCols=['rate_marriage', 'age', 'yrs_married', 'children','religious'], outputCol=\"features\")\n",
    "df = df_assembler.transform(df)\n",
    "df.printSchema()"
   ]
  },
  {
   "cell_type": "code",
   "execution_count": 15,
   "metadata": {},
   "outputs": [
    {
     "name": "stdout",
     "output_type": "stream",
     "text": [
      "+-----------------------+-------+\n",
      "|features               |affairs|\n",
      "+-----------------------+-------+\n",
      "|[5.0,32.0,6.0,1.0,3.0] |0      |\n",
      "|[4.0,22.0,2.5,0.0,2.0] |0      |\n",
      "|[3.0,32.0,9.0,3.0,3.0] |1      |\n",
      "|[3.0,27.0,13.0,3.0,1.0]|1      |\n",
      "|[4.0,22.0,2.5,0.0,1.0] |1      |\n",
      "+-----------------------+-------+\n",
      "only showing top 5 rows\n",
      "\n"
     ]
    }
   ],
   "source": [
    "df.select(\"features\", \"affairs\").show(5, False)"
   ]
  },
  {
   "cell_type": "markdown",
   "metadata": {},
   "source": [
    "#### To train our model, we willl use our  features column as input and affairs column as output."
   ]
  },
  {
   "cell_type": "code",
   "execution_count": 16,
   "metadata": {},
   "outputs": [],
   "source": [
    "model_df = df.select([\"features\",\"affairs\"])"
   ]
  },
  {
   "cell_type": "markdown",
   "metadata": {},
   "source": [
    "## Spliting the Data\n",
    "We will split our data into 75%/25% for training and testing respectively"
   ]
  },
  {
   "cell_type": "code",
   "execution_count": 17,
   "metadata": {},
   "outputs": [
    {
     "name": "stdout",
     "output_type": "stream",
     "text": [
      "training set: 4775\n",
      "testing set: 1591\n"
     ]
    }
   ],
   "source": [
    "training, testing = model_df.randomSplit([0.75, 0.25])\n",
    "print(\"training set:\", training.count())\n",
    "print(\"testing set:\", testing.count())"
   ]
  },
  {
   "cell_type": "code",
   "execution_count": 18,
   "metadata": {},
   "outputs": [
    {
     "name": "stdout",
     "output_type": "stream",
     "text": [
      "+-------+-----+\n",
      "|affairs|count|\n",
      "+-------+-----+\n",
      "|      1| 1529|\n",
      "|      0| 3246|\n",
      "+-------+-----+\n",
      "\n",
      "Training set None\n",
      "+-------+-----+\n",
      "|affairs|count|\n",
      "+-------+-----+\n",
      "|      1|  524|\n",
      "|      0| 1067|\n",
      "+-------+-----+\n",
      "\n",
      "Testing set None\n"
     ]
    }
   ],
   "source": [
    "print (\"Training set\",training.groupBy(\"affairs\").count().show())\n",
    "print (\"Testing set\",testing.groupBy(\"affairs\").count().show())"
   ]
  },
  {
   "cell_type": "markdown",
   "metadata": {},
   "source": [
    "### Building and Training the Random Forest"
   ]
  },
  {
   "cell_type": "code",
   "execution_count": 19,
   "metadata": {},
   "outputs": [],
   "source": [
    "from pyspark.ml.classification import RandomForestClassifier\n",
    "rf_classifier=RandomForestClassifier(labelCol='affairs',numTrees=50).fit(training)"
   ]
  },
  {
   "cell_type": "markdown",
   "metadata": {},
   "source": [
    "##### Let us now evaluate our test data"
   ]
  },
  {
   "cell_type": "code",
   "execution_count": 20,
   "metadata": {},
   "outputs": [
    {
     "name": "stdout",
     "output_type": "stream",
     "text": [
      "+--------------------+-------+--------------------+--------------------+----------+\n",
      "|            features|affairs|       rawPrediction|         probability|prediction|\n",
      "+--------------------+-------+--------------------+--------------------+----------+\n",
      "|[1.0,22.0,2.5,1.0...|      1|[25.7910841552114...|[0.51582168310422...|       0.0|\n",
      "|[1.0,27.0,2.5,0.0...|      1|[24.5032835038649...|[0.49006567007729...|       1.0|\n",
      "|[1.0,27.0,2.5,1.0...|      1|[25.2233406381254...|[0.50446681276250...|       0.0|\n",
      "|[1.0,27.0,6.0,1.0...|      1|[18.1248431009489...|[0.36249686201897...|       1.0|\n",
      "|[1.0,27.0,9.0,4.0...|      0|[14.7352022907610...|[0.29470404581522...|       1.0|\n",
      "|[1.0,32.0,13.0,2....|      1|[12.5024631295587...|[0.25004926259117...|       1.0|\n",
      "|[1.0,32.0,13.0,2....|      1|[12.5024631295587...|[0.25004926259117...|       1.0|\n",
      "|[1.0,32.0,13.0,2....|      0|[14.4623377930365...|[0.28924675586073...|       1.0|\n",
      "|[1.0,32.0,16.5,2....|      1|[13.7387875573808...|[0.27477575114761...|       1.0|\n",
      "|[1.0,32.0,16.5,3....|      1|[12.1137980516395...|[0.24227596103279...|       1.0|\n",
      "|[1.0,37.0,13.0,1....|      1|[26.4009673249679...|[0.52801934649935...|       0.0|\n",
      "|[1.0,37.0,13.0,2....|      0|[13.8174846544335...|[0.27634969308867...|       1.0|\n",
      "|[1.0,37.0,13.0,3....|      0|[29.3280592582006...|[0.58656118516401...|       0.0|\n",
      "|[1.0,37.0,13.0,5....|      0|[17.7595201771059...|[0.35519040354211...|       1.0|\n",
      "|[1.0,37.0,16.5,1....|      1|[14.7122597462853...|[0.29424519492570...|       1.0|\n",
      "|[1.0,37.0,16.5,1....|      1|[14.7122597462853...|[0.29424519492570...|       1.0|\n",
      "|[1.0,37.0,16.5,2....|      1|[13.8344479146793...|[0.27668895829358...|       1.0|\n",
      "|[1.0,37.0,16.5,3....|      1|[11.9895319927508...|[0.23979063985501...|       1.0|\n",
      "|[1.0,37.0,23.0,4....|      1|[12.7858036208287...|[0.25571607241657...|       1.0|\n",
      "|[1.0,37.0,23.0,5....|      1|[22.9149793644489...|[0.45829958728897...|       1.0|\n",
      "+--------------------+-------+--------------------+--------------------+----------+\n",
      "only showing top 20 rows\n",
      "\n"
     ]
    }
   ],
   "source": [
    "rf_predictions=rf_classifier.transform(testing)\n",
    "rf_predictions.show()"
   ]
  },
  {
   "cell_type": "markdown",
   "metadata": {},
   "source": [
    "The first column in the predictions table is that of input features of the test data. The second column is the actual label or output of the test data. The third column (rawPrediction) represents the measure of confidence\n",
    "for both possible outputs. The fourth column is that of conditional probability of each class label, and the final column is the prediction by the random forest classifier.We can apply a groupBy function on the prediction\n",
    "column to find out the number of predictions made for the positive and negative classes."
   ]
  },
  {
   "cell_type": "code",
   "execution_count": 21,
   "metadata": {},
   "outputs": [
    {
     "name": "stdout",
     "output_type": "stream",
     "text": [
      "+----------+-----+\n",
      "|prediction|count|\n",
      "+----------+-----+\n",
      "|       0.0| 1292|\n",
      "|       1.0|  299|\n",
      "+----------+-----+\n",
      "\n"
     ]
    }
   ],
   "source": [
    "rf_predictions.groupBy('prediction').count().show()"
   ]
  },
  {
   "cell_type": "markdown",
   "metadata": {},
   "source": [
    "#### Let us now evalute these predictions"
   ]
  },
  {
   "cell_type": "code",
   "execution_count": 22,
   "metadata": {},
   "outputs": [],
   "source": [
    "from pyspark.ml.evaluation import MulticlassClassificationEvaluator\n",
    "from pyspark.ml.evaluation import BinaryClassificationEvaluator"
   ]
  },
  {
   "cell_type": "markdown",
   "metadata": {},
   "source": [
    "## Accuracy of our Model"
   ]
  },
  {
   "cell_type": "code",
   "execution_count": 23,
   "metadata": {},
   "outputs": [
    {
     "name": "stdout",
     "output_type": "stream",
     "text": [
      "The accuracy of our model is 72%\n"
     ]
    }
   ],
   "source": [
    "rf_accuracy = MulticlassClassificationEvaluator(labelCol=\"affairs\", metricName=\"accuracy\").evaluate(rf_predictions)\n",
    "print(\"The accuracy of our model is {0:.0%}\".format(rf_accuracy))"
   ]
  },
  {
   "cell_type": "markdown",
   "metadata": {},
   "source": [
    "### Our Models Precision"
   ]
  },
  {
   "cell_type": "code",
   "execution_count": 24,
   "metadata": {},
   "outputs": [
    {
     "name": "stdout",
     "output_type": "stream",
     "text": [
      "The precision rate on test data is 70%\n"
     ]
    }
   ],
   "source": [
    "rf_precision=MulticlassClassificationEvaluator(labelCol='affairs',metricName='weightedPrecision').evaluate(rf_predictions)\n",
    "print(\"The precision rate on test data is {0:.0%}\".format(rf_precision))"
   ]
  },
  {
   "cell_type": "markdown",
   "metadata": {},
   "source": [
    "Random Forests gives the importance of each feature in terms of predictive power, and it is very useful to figure out the critical variables that contribute the most to predictions."
   ]
  },
  {
   "cell_type": "code",
   "execution_count": 25,
   "metadata": {},
   "outputs": [
    {
     "data": {
      "text/plain": [
       "SparseVector(5, {0: 0.5358, 1: 0.0417, 2: 0.2355, 3: 0.0727, 4: 0.1143})"
      ]
     },
     "execution_count": 25,
     "metadata": {},
     "output_type": "execute_result"
    }
   ],
   "source": [
    "rf_classifier.featureImportances"
   ]
  },
  {
   "cell_type": "markdown",
   "metadata": {},
   "source": [
    "We used five features and the importance can be found out using the feature importance function. To know which input feature is mapped to which index values, we can use metadata information."
   ]
  },
  {
   "cell_type": "code",
   "execution_count": 26,
   "metadata": {},
   "outputs": [
    {
     "data": {
      "text/plain": [
       "{'numeric': [{'idx': 0, 'name': 'rate_marriage'},\n",
       "  {'idx': 1, 'name': 'age'},\n",
       "  {'idx': 2, 'name': 'yrs_married'},\n",
       "  {'idx': 3, 'name': 'children'},\n",
       "  {'idx': 4, 'name': 'religious'}]}"
      ]
     },
     "execution_count": 26,
     "metadata": {},
     "output_type": "execute_result"
    }
   ],
   "source": [
    " df.schema[\"features\"].metadata[\"ml_attr\"][\"attrs\"]"
   ]
  },
  {
   "cell_type": "markdown",
   "metadata": {},
   "source": [
    "So, rate_marriage is the most important feature from a prediction standpoint followed by yrs_married. The least significant variable seems to be Age."
   ]
  },
  {
   "cell_type": "markdown",
   "metadata": {},
   "source": [
    "### Saving the Model for Future Use."
   ]
  },
  {
   "cell_type": "code",
   "execution_count": 27,
   "metadata": {},
   "outputs": [],
   "source": [
    "from pyspark.ml.classification import RandomForestClassificationModel\n",
    "#rf_classifier.save(\"./classifier\")\n",
    "# Our model has been saved locally.\n"
   ]
  },
  {
   "cell_type": "markdown",
   "metadata": {},
   "source": [
    "### Loading our model"
   ]
  },
  {
   "cell_type": "code",
   "execution_count": 28,
   "metadata": {},
   "outputs": [],
   "source": [
    "rf = RandomForestClassificationModel.load(\"./classifier/\")\n",
    "#new_preditions=rf.transform(new_df)\n",
    "#Uncoment the above line and replace (new_df) with your testing data."
   ]
  },
  {
   "cell_type": "markdown",
   "metadata": {},
   "source": [
    "##### That was my simple analysis of extra marital data in Kenya using Random Forests.\n",
    "\n",
    "#### Hope it helps.\n",
    "#### Bye."
   ]
  }
 ],
 "metadata": {
  "kernelspec": {
   "display_name": "Python 3",
   "language": "python",
   "name": "python3"
  },
  "language_info": {
   "codemirror_mode": {
    "name": "ipython",
    "version": 3
   },
   "file_extension": ".py",
   "mimetype": "text/x-python",
   "name": "python",
   "nbconvert_exporter": "python",
   "pygments_lexer": "ipython3",
   "version": "3.5.2"
  }
 },
 "nbformat": 4,
 "nbformat_minor": 2
}
